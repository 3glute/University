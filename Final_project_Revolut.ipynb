{
  "cells": [
    {
      "cell_type": "markdown",
      "id": "bc77bd26",
      "metadata": {
        "id": "bc77bd26"
      },
      "source": [
        "![Netflix Logo](https://www.leparisien.fr/resizer/C8SgQdCKfepim4jGF2HM0m9PVmM=/932x582/cloudfront-eu-central-1.images.arcpublishing.com/leparisien/JVZBZI2UDFHA5BGZZDK2C2KKV4.jpg)"
      ]
    },
    {
      "cell_type": "markdown",
      "id": "26895cda",
      "metadata": {
        "id": "26895cda"
      },
      "source": [
        "<p style=\"font-family: 'Times New Roman', cursive; font-size: 40px;\">Table of Contents</p>"
      ]
    },
    {
      "cell_type": "markdown",
      "id": "135e779f",
      "metadata": {
        "id": "135e779f"
      },
      "source": [
        "<p style=\"font-family: 'Times New Roman', cursive; font-size: 25px;\">\n",
        "    Hypothesis and objectives:\n",
        "<p style=\"font-family: 'Times New Roman', cursive; font-size: 40px;\">\n",
        "    \n",
        "    \n",
        " <p style=\"font-family: 'Times New Roman', cursive; font-size: 20px;\">1. Exploring data with SQL - Name1\n",
        "    \n",
        " <p style=\"font-family: 'Times New Roman', cursive; font-size: 20px;\">2. Exploring data with Python - Name2\n",
        "    \n",
        " <p style=\"font-family: 'Times New Roman', cursive; font-size: 20px;\">3. Functions to manipulate data by user input - Name3\n",
        "    \n",
        " <p style=\"font-family: 'Times New Roman', cursive; font-size: 20px;\">4. Functions to visualise data - Name4\n",
        "    \n",
        " <p style=\"font-family: 'Times New Roman', cursive; font-size: 20px;\">5. User input - Eglė Pakštytė\n",
        "\n",
        "<p style=\"font-family: 'Times New Roman', cursive; font-size: 25px;\">\n",
        "<p style=\"font-family: 'Times New Roman', cursive; font-size: 20px;\">Conclusion</p>"
      ]
    },
    {
      "cell_type": "markdown",
      "id": "a4834bc6",
      "metadata": {
        "id": "a4834bc6"
      },
      "source": [
        "<p style=\"font-family: 'Times New Roman', cursive; font-size: 15px;\">Note: Eglė Pakštytė created def function(): without the code for Kristina and some for Dija. Also created buttons, since this part was more related to user interface than to graphs. Kristina Sankutė changed the font and the image."
      ]
    },
    {
      "cell_type": "markdown",
      "id": "3ec9e7d9",
      "metadata": {
        "id": "3ec9e7d9"
      },
      "source": [
        "<p style=\"font-family: 'Times New Roman', cursive; font-size: 30px;\">--------------------------------------------------------------------------------------------------</p>"
      ]
    },
    {
      "cell_type": "markdown",
      "id": "1f775e62",
      "metadata": {
        "id": "1f775e62"
      },
      "source": [
        "<p style=\"font-family: 'Times New Roman', cursive; font-size: 30px;\">Hypotheses</p>"
      ]
    },
    {
      "cell_type": "markdown",
      "id": "6ca760b2",
      "metadata": {
        "id": "6ca760b2"
      },
      "source": [
        "<p style=\"font-family: 'Times New Roman', cursive; font-size: 20px;\">1. It is better to analyse data by making an user interface.\n",
        "<p style=\"font-family: 'Times New Roman', cursive; font-size: 20px;\">2. Comedy is the most popular genre."
      ]
    },
    {
      "cell_type": "markdown",
      "id": "a5ee0e9a",
      "metadata": {
        "id": "a5ee0e9a"
      },
      "source": [
        "<p style=\"font-family: 'Times New Roman', cursive; font-size: 30px;\">--------------------------------------------------------------------------------------------------</p>"
      ]
    },
    {
      "cell_type": "markdown",
      "id": "dcce8a85",
      "metadata": {
        "id": "dcce8a85"
      },
      "source": [
        "<p style=\"font-family: 'Times New Roman', cursive; font-size: 27px;\">1. Exploring data with SQL - Name1"
      ]
    },
    {
      "cell_type": "markdown",
      "id": "93fbcaf2",
      "metadata": {
        "id": "93fbcaf2"
      },
      "source": [
        "<p style=\"font-family: 'Times New Roman', cursive; font-size: 20px;\">Objectives:\n",
        "<p style=\"font-family: 'Times New Roman', cursive; font-size: 15px;\">1. Import data with SQL"
      ]
    },
    {
      "cell_type": "code",
      "execution_count": null,
      "id": "ef539aa7",
      "metadata": {
        "vscode": {
          "languageId": "sql"
        },
        "id": "ef539aa7"
      },
      "outputs": [],
      "source": [
        "--Creating a MySQL database for the .csv file.\n",
        "CREATE TABLE netflix (\n",
        "    id INT AUTO_INCREMENT PRIMARY KEY, --Adds an id column as the Primary Key.\n",
        "    title VARCHAR(255),\n",
        "    global_availability BINARY,\n",
        "    release_date DATE,\n",
        "    hours_viewed INT,\n",
        "    number_of_ratings INT,\n",
        "    rating FLOAT,\n",
        "    genre VARCHAR(255),\n",
        "    key_words VARCHAR(255),\n",
        "    description VARCHAR(255)\n",
        ");\n"
      ]
    },
    {
      "cell_type": "code",
      "execution_count": null,
      "id": "1eff0e47",
      "metadata": {
        "vscode": {
          "languageId": "sql"
        },
        "id": "1eff0e47",
        "outputId": "3c2eb6fc-ae88-4644-8d08-144c9c5c76df"
      },
      "outputs": [
        {
          "ename": "SyntaxError",
          "evalue": "invalid syntax (1899633083.py, line 1)",
          "output_type": "error",
          "traceback": [
            "\u001b[1;36m  Cell \u001b[1;32mIn[1], line 1\u001b[1;36m\u001b[0m\n\u001b[1;33m    --Load the data from .csv file into MySQL.\u001b[0m\n\u001b[1;37m           ^\u001b[0m\n\u001b[1;31mSyntaxError\u001b[0m\u001b[1;31m:\u001b[0m invalid syntax\n"
          ]
        }
      ],
      "source": [
        "--Load the data from .csv file into MySQL.\n",
        "LOAD DATA LOCAL INFILE 'Netflix.csv'\n",
        "INTO TABLE netflix\n",
        "FIELDS TERMINATED BY ','\n",
        "ENCLOSED BY '\"'\n",
        "LINES TERMINATED BY '\\r\\n'"
      ]
    },
    {
      "cell_type": "code",
      "execution_count": null,
      "id": "cadfffc0",
      "metadata": {
        "vscode": {
          "languageId": "sql"
        },
        "id": "cadfffc0"
      },
      "outputs": [],
      "source": [
        "-- Replace NULL values in 'release_date' with the default value 'N/A'\n",
        "UPDATE netflix\n",
        "SET release_date = 'N/A'\n",
        "WHERE release_date IS NULL;"
      ]
    },
    {
      "cell_type": "code",
      "execution_count": null,
      "id": "6096a39c",
      "metadata": {
        "vscode": {
          "languageId": "sql"
        },
        "id": "6096a39c"
      },
      "outputs": [],
      "source": [
        "-- Count of rows in the table\n",
        "SELECT COUNT(*) AS row_count FROM netflix;"
      ]
    },
    {
      "cell_type": "code",
      "execution_count": null,
      "id": "0fd0a5dd",
      "metadata": {
        "vscode": {
          "languageId": "sql"
        },
        "id": "0fd0a5dd"
      },
      "outputs": [],
      "source": [
        "-- Descriptive statistics for numeric columns\n",
        "SELECT\n",
        "  MIN(hours_viewed) AS min_hours_viewed,\n",
        "  MAX(hours_viewed) AS max_hours_viewed,\n",
        "  AVG(hours_viewed) AS avg_hours_viewed,\n",
        "  MIN(number_of_ratings) AS min_number_of_ratings,\n",
        "  MAX(number_of_ratings) AS max_number_of_ratings,\n",
        "  AVG(number_of_ratings) AS avg_number_of_ratings,\n",
        "  MIN(rating) AS min_rating,\n",
        "  MAX(rating) AS max_rating,\n",
        "  AVG(rating) AS avg_rating\n",
        "FROM netflix;"
      ]
    },
    {
      "cell_type": "code",
      "execution_count": null,
      "id": "8a8ab307",
      "metadata": {
        "vscode": {
          "languageId": "sql"
        },
        "id": "8a8ab307"
      },
      "outputs": [],
      "source": [
        "-- Count of each genre in the table\n",
        "SELECT genre, COUNT(*) AS genre_count\n",
        "FROM netflix\n",
        "GROUP BY genre;"
      ]
    },
    {
      "cell_type": "code",
      "execution_count": null,
      "id": "0f39294c",
      "metadata": {
        "vscode": {
          "languageId": "sql"
        },
        "id": "0f39294c"
      },
      "outputs": [],
      "source": [
        "-- Summary of release dates\n",
        "SELECT\n",
        "  MIN(release_date) AS earliest_release_date,\n",
        "  MAX(release_date) AS latest_release_date\n",
        "FROM netflix;"
      ]
    },
    {
      "cell_type": "code",
      "execution_count": null,
      "id": "406f290f",
      "metadata": {
        "vscode": {
          "languageId": "sql"
        },
        "id": "406f290f"
      },
      "outputs": [],
      "source": [
        "-- Keyword frequency\n",
        "SELECT\n",
        "  key_word,\n",
        "  COUNT(*) AS keyword_count\n",
        "FROM\n",
        "  (SELECT\n",
        "    TRIM(BOTH \"'\" FROM key_words) AS key_word\n",
        "  FROM netflix) AS keyword_table\n",
        "GROUP BY key_word\n",
        "ORDER BY keyword_count DESC\n",
        "LIMIT 10;"
      ]
    },
    {
      "cell_type": "code",
      "execution_count": null,
      "id": "adb8ed82",
      "metadata": {
        "vscode": {
          "languageId": "sql"
        },
        "id": "adb8ed82"
      },
      "outputs": [],
      "source": [
        "-- Genre distribution over time\n",
        "SELECT\n",
        "  YEAR(release_date) AS release_year,\n",
        "  genre,\n",
        "  COUNT(*) AS genre_count\n",
        "FROM netflix\n",
        "GROUP BY release_year, genre\n",
        "ORDER BY release_year, genre;"
      ]
    },
    {
      "cell_type": "markdown",
      "id": "588c3f15",
      "metadata": {
        "id": "588c3f15"
      },
      "source": [
        "<p style=\"font-family: 'Times New Roman', cursive; font-size: 27px;\"> 2. Exploring data with Python - Name2\n",
        "\n"
      ]
    },
    {
      "cell_type": "markdown",
      "id": "8cc64d39",
      "metadata": {
        "id": "8cc64d39"
      },
      "source": [
        "<p style=\"font-family: 'Times New Roman', cursive; font-size: 20px;\">Objectives:\n",
        "<p style=\"font-family: 'Times New Roman', cursive; font-size: 15px;\">1. Import csv file\n",
        "<p style=\"font-family: 'Times New Roman', cursive; font-size: 15px;\">2. Get information and statistics about data\n",
        "<p style=\"font-family: 'Times New Roman', cursive; font-size: 15px;\">3. Find and remove the null values"
      ]
    },
    {
      "cell_type": "code",
      "execution_count": null,
      "id": "1e094cb9",
      "metadata": {
        "id": "1e094cb9"
      },
      "outputs": [],
      "source": [
        "import pandas as pd\n",
        "import numpy as np\n",
        "import matplotlib.pyplot as plt\n",
        "import seaborn as sns\n",
        "import tkinter as tk\n",
        "from tkinter import simpledialog\n",
        "import plotly.express as px\n",
        "from collections import Counter\n",
        "import ast\n",
        "\n",
        "\n",
        "df = pd.read_csv(r\"C:\\Users\\Eglė\\OneDrive - ISM University of Management and Economics\\Darbalaukis\\Coding\\Netflix.csv\")\n"
      ]
    },
    {
      "cell_type": "code",
      "execution_count": null,
      "id": "03905fb1",
      "metadata": {
        "id": "03905fb1",
        "outputId": "507167b5-93a7-4983-8de1-523d2eb5182d"
      },
      "outputs": [
        {
          "name": "stdout",
          "output_type": "stream",
          "text": [
            "Dataset Info:\n",
            "<class 'pandas.core.frame.DataFrame'>\n",
            "RangeIndex: 18332 entries, 0 to 18331\n",
            "Data columns (total 9 columns):\n",
            " #   Column               Non-Null Count  Dtype  \n",
            "---  ------               --------------  -----  \n",
            " 0   Title                18332 non-null  object \n",
            " 1   Available Globally?  18332 non-null  object \n",
            " 2   Release Date         4879 non-null   object \n",
            " 3   Hours Viewed         18332 non-null  int64  \n",
            " 4   Number of Ratings    14222 non-null  float64\n",
            " 5   Rating               14222 non-null  float64\n",
            " 6   Genre                15761 non-null  object \n",
            " 7   Key Words            12801 non-null  object \n",
            " 8   Description          10619 non-null  object \n",
            "dtypes: float64(2), int64(1), object(6)\n",
            "memory usage: 1.3+ MB\n",
            "None\n"
          ]
        }
      ],
      "source": [
        "print(\"Dataset Info:\")\n",
        "print(df.info())"
      ]
    },
    {
      "cell_type": "code",
      "execution_count": null,
      "id": "67521fd0",
      "metadata": {
        "id": "67521fd0",
        "outputId": "37922ad8-b4a2-4622-9564-0b4a6436ca52"
      },
      "outputs": [
        {
          "name": "stdout",
          "output_type": "stream",
          "text": [
            "\n",
            "Descriptive Statistics:\n",
            "       Hours Viewed  Number of Ratings        Rating\n",
            "count  1.833200e+04       1.422200e+04  14222.000000\n",
            "mean   5.120205e+06       4.613511e+04      6.509056\n",
            "std    1.867122e+07       1.486087e+05      1.227839\n",
            "min    1.000000e+05       5.000000e+00      1.200000\n",
            "25%    2.000000e+05       3.432500e+02      5.800000\n",
            "50%    7.000000e+05       2.594000e+03      6.600000\n",
            "75%    3.400000e+06       1.935500e+04      7.300000\n",
            "max    8.121000e+08       2.829797e+06     10.000000\n"
          ]
        }
      ],
      "source": [
        "print(\"\\nDescriptive Statistics:\")\n",
        "print(df.describe())"
      ]
    },
    {
      "cell_type": "code",
      "execution_count": null,
      "id": "3d387a88",
      "metadata": {
        "id": "3d387a88",
        "outputId": "408e12c6-3ea7-47f9-b2fe-a865a71e4ec2"
      },
      "outputs": [
        {
          "name": "stdout",
          "output_type": "stream",
          "text": [
            "\n",
            "Handling Missing Values:\n",
            "Number of missing values in each column:\n",
            "Title                      0\n",
            "Available Globally?        0\n",
            "Release Date           13453\n",
            "Hours Viewed               0\n",
            "Number of Ratings       4110\n",
            "Rating                  4110\n",
            "Genre                   2571\n",
            "Key Words               5531\n",
            "Description             7713\n",
            "dtype: int64\n"
          ]
        }
      ],
      "source": [
        "print(\"\\nHandling Missing Values:\")\n",
        "print(\"Number of missing values in each column:\")\n",
        "print(df.isnull().sum())"
      ]
    },
    {
      "cell_type": "code",
      "execution_count": null,
      "id": "298555a5",
      "metadata": {
        "id": "298555a5",
        "outputId": "e58a59d2-77b2-4300-964e-d29d837ee9d5"
      },
      "outputs": [
        {
          "data": {
            "text/html": [
              "<div>\n",
              "<style scoped>\n",
              "    .dataframe tbody tr th:only-of-type {\n",
              "        vertical-align: middle;\n",
              "    }\n",
              "\n",
              "    .dataframe tbody tr th {\n",
              "        vertical-align: top;\n",
              "    }\n",
              "\n",
              "    .dataframe thead th {\n",
              "        text-align: right;\n",
              "    }\n",
              "</style>\n",
              "<table border=\"1\" class=\"dataframe\">\n",
              "  <thead>\n",
              "    <tr style=\"text-align: right;\">\n",
              "      <th></th>\n",
              "      <th>Title</th>\n",
              "      <th>Available Globally?</th>\n",
              "      <th>Release Date</th>\n",
              "      <th>Hours Viewed</th>\n",
              "      <th>Number of Ratings</th>\n",
              "      <th>Rating</th>\n",
              "      <th>Genre</th>\n",
              "      <th>Key Words</th>\n",
              "      <th>Description</th>\n",
              "    </tr>\n",
              "  </thead>\n",
              "  <tbody>\n",
              "    <tr>\n",
              "      <th>1</th>\n",
              "      <td>Ginny &amp; Georgia: Season 2</td>\n",
              "      <td>Yes</td>\n",
              "      <td>2023-01-05</td>\n",
              "      <td>665100000</td>\n",
              "      <td>5216.0</td>\n",
              "      <td>5.7</td>\n",
              "      <td>['Comedy', 'Drama', 'Romance']</td>\n",
              "      <td>producer,three word title,headstrong,arranged ...</td>\n",
              "      <td>The film follows headstrong Ginny who meets Su...</td>\n",
              "    </tr>\n",
              "    <tr>\n",
              "      <th>4</th>\n",
              "      <td>Queen Charlotte: A Bridgerton Story</td>\n",
              "      <td>Yes</td>\n",
              "      <td>2023-05-04</td>\n",
              "      <td>503000000</td>\n",
              "      <td>50077.0</td>\n",
              "      <td>7.4</td>\n",
              "      <td>['Drama', 'History', 'Romance']</td>\n",
              "      <td>prequel,queen,historical,england,queen charlot...</td>\n",
              "      <td>Betrothed against her will to King George, you...</td>\n",
              "    </tr>\n",
              "    <tr>\n",
              "      <th>5</th>\n",
              "      <td>You: Season 4</td>\n",
              "      <td>Yes</td>\n",
              "      <td>2023-02-09</td>\n",
              "      <td>440600000</td>\n",
              "      <td>45624.0</td>\n",
              "      <td>6.6</td>\n",
              "      <td>['Comedy', 'Romance']</td>\n",
              "      <td>christmas,coming out,holidays,lesbian relation...</td>\n",
              "      <td>A holiday romantic comedy that captures the ra...</td>\n",
              "    </tr>\n",
              "    <tr>\n",
              "      <th>8</th>\n",
              "      <td>Ginny &amp; Georgia: Season 1</td>\n",
              "      <td>Yes</td>\n",
              "      <td>2021-02-24</td>\n",
              "      <td>302100000</td>\n",
              "      <td>5216.0</td>\n",
              "      <td>5.7</td>\n",
              "      <td>['Comedy', 'Drama', 'Romance']</td>\n",
              "      <td>producer,three word title,headstrong,arranged ...</td>\n",
              "      <td>The film follows headstrong Ginny who meets Su...</td>\n",
              "    </tr>\n",
              "    <tr>\n",
              "      <th>13</th>\n",
              "      <td>The Mother</td>\n",
              "      <td>Yes</td>\n",
              "      <td>2023-05-12</td>\n",
              "      <td>249900000</td>\n",
              "      <td>44102.0</td>\n",
              "      <td>5.6</td>\n",
              "      <td>['Action', 'Thriller']</td>\n",
              "      <td>female protagonist,assassin,daughter,danger,fight</td>\n",
              "      <td>While fleeing from dangerous assailants, an as...</td>\n",
              "    </tr>\n",
              "    <tr>\n",
              "      <th>...</th>\n",
              "      <td>...</td>\n",
              "      <td>...</td>\n",
              "      <td>...</td>\n",
              "      <td>...</td>\n",
              "      <td>...</td>\n",
              "      <td>...</td>\n",
              "      <td>...</td>\n",
              "      <td>...</td>\n",
              "      <td>...</td>\n",
              "    </tr>\n",
              "    <tr>\n",
              "      <th>18319</th>\n",
              "      <td>Čtyřlístek Ve Službách Krále</td>\n",
              "      <td>No</td>\n",
              "      <td>NaN</td>\n",
              "      <td>100000</td>\n",
              "      <td>78.0</td>\n",
              "      <td>5.2</td>\n",
              "      <td>['Animation', 'Comedy', 'Family']</td>\n",
              "      <td>group of friends,animal protagonist,time trave...</td>\n",
              "      <td>Famous Czech comics characters as movie stars!...</td>\n",
              "    </tr>\n",
              "    <tr>\n",
              "      <th>18321</th>\n",
              "      <td>Špindl</td>\n",
              "      <td>No</td>\n",
              "      <td>NaN</td>\n",
              "      <td>100000</td>\n",
              "      <td>176.0</td>\n",
              "      <td>3.8</td>\n",
              "      <td>['Comedy', 'Romance']</td>\n",
              "      <td>voice over narration,gold digger,low self este...</td>\n",
              "      <td>Three unmarried sisters, Katka, Eliska and Mag...</td>\n",
              "    </tr>\n",
              "    <tr>\n",
              "      <th>18322</th>\n",
              "      <td>Żyć nie umierać</td>\n",
              "      <td>No</td>\n",
              "      <td>NaN</td>\n",
              "      <td>100000</td>\n",
              "      <td>303.0</td>\n",
              "      <td>5.5</td>\n",
              "      <td>['Comedy', 'Drama']</td>\n",
              "      <td>cancer,clown,terminal illness</td>\n",
              "      <td>When cancer-stricken alcoholic actor discovers...</td>\n",
              "    </tr>\n",
              "    <tr>\n",
              "      <th>18327</th>\n",
              "      <td>راس السنة</td>\n",
              "      <td>No</td>\n",
              "      <td>NaN</td>\n",
              "      <td>100000</td>\n",
              "      <td>383.0</td>\n",
              "      <td>4.8</td>\n",
              "      <td>['Drama']</td>\n",
              "      <td>live</td>\n",
              "      <td>A tale of different people whose lives intertw...</td>\n",
              "    </tr>\n",
              "    <tr>\n",
              "      <th>18328</th>\n",
              "      <td>心が叫びたがってるんだ。</td>\n",
              "      <td>No</td>\n",
              "      <td>NaN</td>\n",
              "      <td>100000</td>\n",
              "      <td>6209.0</td>\n",
              "      <td>7.3</td>\n",
              "      <td>['Animation', 'Drama', 'Family']</td>\n",
              "      <td>anime animation,anime</td>\n",
              "      <td>A young girl had her voice magically taken awa...</td>\n",
              "    </tr>\n",
              "  </tbody>\n",
              "</table>\n",
              "<p>8741 rows × 9 columns</p>\n",
              "</div>"
            ],
            "text/plain": [
              "                                     Title Available Globally? Release Date  \\\n",
              "1                Ginny & Georgia: Season 2                 Yes   2023-01-05   \n",
              "4      Queen Charlotte: A Bridgerton Story                 Yes   2023-05-04   \n",
              "5                            You: Season 4                 Yes   2023-02-09   \n",
              "8                Ginny & Georgia: Season 1                 Yes   2021-02-24   \n",
              "13                              The Mother                 Yes   2023-05-12   \n",
              "...                                    ...                 ...          ...   \n",
              "18319         Čtyřlístek Ve Službách Krále                  No          NaN   \n",
              "18321                               Špindl                  No          NaN   \n",
              "18322                      Żyć nie umierać                  No          NaN   \n",
              "18327                            راس السنة                  No          NaN   \n",
              "18328                         心が叫びたがってるんだ。                  No          NaN   \n",
              "\n",
              "       Hours Viewed  Number of Ratings  Rating  \\\n",
              "1         665100000             5216.0     5.7   \n",
              "4         503000000            50077.0     7.4   \n",
              "5         440600000            45624.0     6.6   \n",
              "8         302100000             5216.0     5.7   \n",
              "13        249900000            44102.0     5.6   \n",
              "...             ...                ...     ...   \n",
              "18319        100000               78.0     5.2   \n",
              "18321        100000              176.0     3.8   \n",
              "18322        100000              303.0     5.5   \n",
              "18327        100000              383.0     4.8   \n",
              "18328        100000             6209.0     7.3   \n",
              "\n",
              "                                   Genre  \\\n",
              "1         ['Comedy', 'Drama', 'Romance']   \n",
              "4        ['Drama', 'History', 'Romance']   \n",
              "5                  ['Comedy', 'Romance']   \n",
              "8         ['Comedy', 'Drama', 'Romance']   \n",
              "13                ['Action', 'Thriller']   \n",
              "...                                  ...   \n",
              "18319  ['Animation', 'Comedy', 'Family']   \n",
              "18321              ['Comedy', 'Romance']   \n",
              "18322                ['Comedy', 'Drama']   \n",
              "18327                          ['Drama']   \n",
              "18328   ['Animation', 'Drama', 'Family']   \n",
              "\n",
              "                                               Key Words  \\\n",
              "1      producer,three word title,headstrong,arranged ...   \n",
              "4      prequel,queen,historical,england,queen charlot...   \n",
              "5      christmas,coming out,holidays,lesbian relation...   \n",
              "8      producer,three word title,headstrong,arranged ...   \n",
              "13     female protagonist,assassin,daughter,danger,fight   \n",
              "...                                                  ...   \n",
              "18319  group of friends,animal protagonist,time trave...   \n",
              "18321  voice over narration,gold digger,low self este...   \n",
              "18322                      cancer,clown,terminal illness   \n",
              "18327                                               live   \n",
              "18328                              anime animation,anime   \n",
              "\n",
              "                                             Description  \n",
              "1      The film follows headstrong Ginny who meets Su...  \n",
              "4      Betrothed against her will to King George, you...  \n",
              "5      A holiday romantic comedy that captures the ra...  \n",
              "8      The film follows headstrong Ginny who meets Su...  \n",
              "13     While fleeing from dangerous assailants, an as...  \n",
              "...                                                  ...  \n",
              "18319  Famous Czech comics characters as movie stars!...  \n",
              "18321  Three unmarried sisters, Katka, Eliska and Mag...  \n",
              "18322  When cancer-stricken alcoholic actor discovers...  \n",
              "18327  A tale of different people whose lives intertw...  \n",
              "18328  A young girl had her voice magically taken awa...  \n",
              "\n",
              "[8741 rows x 9 columns]"
            ]
          },
          "execution_count": 50,
          "metadata": {},
          "output_type": "execute_result"
        }
      ],
      "source": [
        "column_to_exclude = 'Release Date'\n",
        "df_cleaned = df.dropna(subset=df.columns.difference([column_to_exclude]))\n",
        "df_cleaned"
      ]
    },
    {
      "cell_type": "markdown",
      "id": "699f3a6c",
      "metadata": {
        "id": "699f3a6c"
      },
      "source": [
        "<p style=\"font-family: 'Times New Roman', cursive; font-size: 27px;\">3. Functions to manipulate data by user input - Name3\n"
      ]
    },
    {
      "cell_type": "markdown",
      "id": "d6d3c8ec",
      "metadata": {
        "id": "d6d3c8ec"
      },
      "source": [
        "<p style=\"font-family: 'Times New Roman', cursive; font-size: 20px;\">Objectives:\n",
        "<p style=\"font-family: 'Times New Roman', cursive; font-size: 15px;\">1. Write a sorting function.\n",
        "<p style=\"font-family: 'Times New Roman', cursive; font-size: 15px;\">2. Write a function to display the table.\n",
        "<p style=\"font-family: 'Times New Roman', cursive; font-size: 15px;\">3. Write functions to find smallest and largest values."
      ]
    },
    {
      "cell_type": "code",
      "execution_count": null,
      "id": "7b1cc0af",
      "metadata": {
        "id": "7b1cc0af"
      },
      "outputs": [],
      "source": [
        "from tkinter import simpledialog\n",
        "import pandas as pd\n",
        "\n",
        "class DataProcessor:\n",
        "    def __init__(self, df):\n",
        "        self.df = df\n",
        "\n",
        "    def sort_function(self):\n",
        "        # Additional sorting options\n",
        "        sort_options = ['rating', 'genre']\n",
        "\n",
        "        # Get user input for sorting option\n",
        "        sort_option = simpledialog.askstring(\"Sort Option\", f\"Choose sorting option: {', '.join(sort_options)}\")\n",
        "\n",
        "        if sort_option is not None:\n",
        "            # Check if the entered sorting option is valid\n",
        "            if sort_option.lower() in sort_options:\n",
        "                # Call the sorting function with the chosen option\n",
        "                if sort_option.lower() == 'genre':\n",
        "                    # Get user input for genres to sort\n",
        "                    genres_input = simpledialog.askstring(\"Genres\", \"Enter genres to sort (separated by commas):\")\n",
        "                    genres = [genre.strip() for genre in genres_input.split(',')]\n",
        "                    self.sort_by_genre(genres)\n",
        "                elif sort_option.lower() == 'rating':\n",
        "                    # Get user input for rating range\n",
        "                    rating_range = simpledialog.askstring(\"Rating Range\", \"Enter rating range (e.g., 0-10):\")\n",
        "                    self.sort_by_rating(rating_range)\n",
        "                else:\n",
        "                    print(\"Invalid sorting option.\")\n",
        "            else:\n",
        "                print(\"Invalid sorting option.\")\n",
        "        else:\n",
        "            print(\"User canceled sorting.\")\n",
        "\n",
        "    def sort_by_genre(self, genres):\n",
        "        # Sorting logic by genre\n",
        "        selected_movies = self.df[self.df['Genre'].isin(genres)]\n",
        "        display(selected_movies)\n",
        "\n",
        "    def sort_by_rating(self, rating_range):\n",
        "        # Sorting logic by rating\n",
        "        min_rating, max_rating = map(float, rating_range.split('-'))\n",
        "        selected_movies = self.df[(self.df['Rating'] >= min_rating) & (self.df['Rating'] <= max_rating)]\n",
        "        display(selected_movies)\n",
        "\n",
        "    def display_table_function(self):\n",
        "        # Display logic\n",
        "        display_option = simpledialog.askstring(\"Display Option\", \"Enter display option (cleaned/original):\")\n",
        "\n",
        "        if display_option is not None:\n",
        "            if display_option.lower() == 'cleaned':\n",
        "                print(\"Displaying cleaned DataFrame:\")\n",
        "                display(self.df)\n",
        "            elif display_option.lower() == 'original':\n",
        "                print(\"Displaying original DataFrame:\")\n",
        "                display(self.df)\n",
        "            else:\n",
        "                display(\"Invalid display option.\")\n",
        "        else:\n",
        "            print(\"User canceled display.\")\n",
        "\n",
        "    def largest_function(self):\n",
        "        # Largest options\n",
        "        largest_options = ['Rating', 'Hours Viewed']\n",
        "\n",
        "        # Get user input for the largest option\n",
        "        largest_option = simpledialog.askstring(\"Largest Option\", f\"Choose largest option: {', '.join(largest_options)}\")\n",
        "\n",
        "        if largest_option is not None:\n",
        "            # Check if the entered option is valid\n",
        "            if largest_option.lower() in [opt.lower() for opt in largest_options]:\n",
        "                # Display the table sorted from largest to smallest by the chosen option\n",
        "                self.display_largest_value(largest_option)\n",
        "            else:\n",
        "                print(\"Invalid largest option.\")\n",
        "        else:\n",
        "            print(\"User canceled largest.\")\n",
        "\n",
        "    def smallest_function(self):\n",
        "        # Smallest options\n",
        "        smallest_options = ['Rating', 'Hours Viewed']\n",
        "\n",
        "        # Get user input for the smallest option\n",
        "        smallest_option = simpledialog.askstring(\"Smallest Option\", f\"Choose smallest option: {', '.join(smallest_options)}\")\n",
        "\n",
        "        if smallest_option is not None:\n",
        "            # Check if the entered option is valid\n",
        "            if smallest_option.lower() in [opt.lower() for opt in smallest_options]:\n",
        "                # Display the table sorted from smallest to largest by the chosen option\n",
        "                self.display_smallest_value(smallest_option)\n",
        "            else:\n",
        "                print(\"Invalid smallest option.\")\n",
        "        else:\n",
        "            print(\"User canceled smallest.\")\n",
        "\n",
        "    def display_largest_value(self, category):\n",
        "        # Display the largest value in the chosen category\n",
        "        largest_value = self.df[category].max()\n",
        "        selected_movies = self.df[self.df[category] == largest_value]\n",
        "        print(f\"The largest value in the category {category} is:\")\n",
        "        display(selected_movies)\n",
        "\n",
        "    def display_smallest_value(self, category):\n",
        "        # Display the smallest value in the chosen category\n",
        "        smallest_value = self.df[category].min()\n",
        "        selected_movies = self.df[self.df[category] == smallest_value]\n",
        "        print(f\"The smallest value in the category {category} is:\")\n",
        "        display(selected_movies)"
      ]
    },
    {
      "cell_type": "markdown",
      "id": "be33d43e",
      "metadata": {
        "id": "be33d43e"
      },
      "source": [
        "<p style=\"font-family: 'Times New Roman', cursive; font-size: 27px;\">4. Functions to visualise data - Name4\n"
      ]
    },
    {
      "cell_type": "markdown",
      "id": "0c78df9e",
      "metadata": {
        "id": "0c78df9e"
      },
      "source": [
        "<p style=\"font-family: 'Times New Roman', cursive; font-size: 20px;\">Objectives:\n",
        "<p style=\"font-family: 'Times New Roman', cursive; font-size: 15px;\">1. Make three graphs that could be useful in understanding the data."
      ]
    },
    {
      "cell_type": "code",
      "execution_count": null,
      "id": "8a88ae81",
      "metadata": {
        "id": "8a88ae81"
      },
      "outputs": [],
      "source": [
        "import tkinter as tk\n",
        "from tkinter import messagebox\n",
        "\n",
        "def function1():\n",
        "    df['Release Date'] = pd.to_datetime(df['Release Date'], errors='coerce')\n",
        "\n",
        "    # Drop rows where 'Release Date' is missing\n",
        "    df_time_series = df.dropna(subset=['Release Date'])\n",
        "\n",
        "    # Group by 'Release Date' and sum 'Hours Viewed'\n",
        "    time_series_data = df_time_series.groupby(df_time_series['Release Date'].dt.to_period(\"M\")).sum(numeric_only=True)['Hours Viewed']\n",
        "    time_series_data.index = time_series_data.index.to_timestamp()  # Convert back to timestamp for plotting\n",
        "\n",
        "    df_plot = time_series_data.reset_index()\n",
        "    df_plot.columns = ['Release Date', 'Hours Viewed']\n",
        "\n",
        "    # Create a scatter plot\n",
        "    fig = px.scatter(df_plot, x='Release Date', y='Hours Viewed', color='Hours Viewed',\n",
        "                     title='Netflix view trends over time',\n",
        "                     color_continuous_scale='OrRd')\n",
        "\n",
        "    # Add a line plot\n",
        "    line_fig = fig.add_traces(px.line(df_plot, x='Release Date', y='Hours Viewed').data)\n",
        "    for trace in line_fig.data:\n",
        "        trace.line.color = '#ff7f0e'  # Change the line color\n",
        "\n",
        "    fig.update_layout(title_font_size=20)\n",
        "    fig.update_layout(font_family=\"Sherif\")\n",
        "\n",
        "    fig.show()\n",
        "\n",
        "def function2():\n",
        "    data = df['Rating'].dropna()\n",
        "    counts, bins = np.histogram(data, bins=20)\n",
        "\n",
        "    # Create color gradient\n",
        "    cmap = plt.get_cmap('Reds')\n",
        "    colors = cmap(np.linspace(0, 1, len(counts)))\n",
        "\n",
        "    # Create the histogram plot\n",
        "    plt.figure(figsize=(10, 6))\n",
        "    sns.set(style=\"darkgrid\")\n",
        "\n",
        "    for color, bin, count in zip(colors, bins, counts):\n",
        "        plt.bar(bin, count, color=color, width=bins[1] - bins[0], align='edge')\n",
        "\n",
        "    # Adding a line for the median\n",
        "    median_rating = data.median()\n",
        "    plt.axvline(median_rating, color='yellow', linestyle='dashed', linewidth=2)\n",
        "\n",
        "    # Enhancing the plot aesthetics\n",
        "    plt.title('Distribution of Netflix Ratings', fontsize=20, fontname='Times New Roman')\n",
        "    plt.xlabel('Rating', fontsize=14, fontname='Times New Roman')\n",
        "    plt.ylabel('Frequency', fontsize=14, fontname='Times New Roman')\n",
        "    plt.xticks(fontsize=12)\n",
        "    plt.yticks(fontsize=12)\n",
        "    plt.xlim([bins[0], bins[-1]])\n",
        "\n",
        "    # Show the plot\n",
        "    plt.show()\n",
        "\n",
        "def function3():\n",
        "    genre_counts = Counter()\n",
        "    df['Genre'].dropna().apply(lambda x: genre_counts.update(ast.literal_eval(x)))\n",
        "\n",
        "    genres, counts = zip(*genre_counts.items())\n",
        "    genre_data = pd.DataFrame({'Genre': genres, 'Count': counts})\n",
        "\n",
        "    # Create bar chart\n",
        "    fig_genre = px.bar(genre_data,\n",
        "                       x='Genre',\n",
        "                       y='Count',\n",
        "                       title='All Movies Classified by Genre',\n",
        "                       color='Count',\n",
        "                       color_continuous_scale='OrRd')\n",
        "    fig_genre.update_layout(xaxis_title='Genre',\n",
        "                            yaxis_title='Count',\n",
        "                            title_font_size=20,\n",
        "                            font_family=\"Sherif\",\n",
        "                            xaxis_tickangle=-90)\n",
        "    fig_genre.show()\n",
        "\n",
        "def graph_function():\n",
        "    popup = tk.Tk()\n",
        "    popup.title(\"Graph Function\")\n",
        "\n",
        "    button1 = tk.Button(popup, text=\"Netflix view trends over tim\", command=function1)\n",
        "    button1.pack()\n",
        "\n",
        "    button2 = tk.Button(popup, text=\"Distribution of Netflix Ratings\", command=function2)\n",
        "    button2.pack()\n",
        "\n",
        "    button3 = tk.Button(popup, text=\"All Movies Classified by Genre\", command=function3)\n",
        "    button3.pack()\n",
        "\n",
        "    popup.mainloop()"
      ]
    },
    {
      "cell_type": "markdown",
      "id": "737ca99a",
      "metadata": {
        "id": "737ca99a"
      },
      "source": [
        "<p style=\"font-family: 'Times New Roman', cursive; font-size: 27px;\">5. User input - Eglė Pakštytė"
      ]
    },
    {
      "cell_type": "markdown",
      "id": "a5d89253",
      "metadata": {
        "id": "a5d89253"
      },
      "source": [
        "<p style=\"font-family: 'Times New Roman', cursive; font-size: 15px;\">To check all the functions, write any sentence containing the word 'menu'.\n",
        "\n",
        "<p style=\"font-family: 'Times New Roman', cursive; font-size: 20px;\">Objectives:\n",
        "<p style=\"font-family: 'Times New Roman', cursive; font-size: 15px;\">1. Write code that would gather user input.\n",
        "<p style=\"font-family: 'Times New Roman', cursive; font-size: 15px;\">2. Write code that identifies entered key words and accounts for one spelling mistake.\n",
        "<p style=\"font-family: 'Times New Roman', cursive; font-size: 15px;\">3. Once a keyword is recognised execute corresponding functions.\n",
        "<p style=\"font-family: 'Times New Roman', cursive; font-size: 15px;\">4. Write a function that would display the menu of all keywords."
      ]
    },
    {
      "cell_type": "code",
      "execution_count": null,
      "id": "615cb178",
      "metadata": {
        "id": "615cb178"
      },
      "outputs": [],
      "source": [
        "from tkinter import messagebox\n",
        "\n",
        "def menu_function():\n",
        "    menu_text = \"\"\"\n",
        "    Possible commands:\n",
        "    1. 'sort': sort a specific column\n",
        "    2. 'display': Display the table with or without missing values\n",
        "    3. 'largest': Find the largest item for chosen column\n",
        "    4. 'smallest': Find the smallest item for chosen column\n",
        "    5. 'graph': Create a graph from a selection of 3 premade graphs\n",
        "    6. 'menu': Display this menu\n",
        "    \"\"\"\n",
        "\n",
        "    # Display the menu in a popup window\n",
        "    messagebox.showinfo(\"Menu\", menu_text)"
      ]
    },
    {
      "cell_type": "code",
      "execution_count": null,
      "id": "4041701e",
      "metadata": {
        "id": "4041701e",
        "outputId": "61b52252-beaf-49f9-f186-c2db379645f7"
      },
      "outputs": [
        {
          "name": "stdout",
          "output_type": "stream",
          "text": [
            "User entered: display\n",
            "Displaying original DataFrame:\n",
            "                                     Title Available Globally? Release Date  \\\n",
            "0                The Night Agent: Season 1                 Yes   2023-03-23   \n",
            "1                Ginny & Georgia: Season 2                 Yes   2023-01-05   \n",
            "2       The Glory: Season 1 // 더 글로리: 시즌 1                 Yes   2022-12-30   \n",
            "3                      Wednesday: Season 1                 Yes   2022-11-23   \n",
            "4      Queen Charlotte: A Bridgerton Story                 Yes   2023-05-04   \n",
            "...                                    ...                 ...          ...   \n",
            "18327                            راس السنة                  No          NaN   \n",
            "18328                         心が叫びたがってるんだ。                  No          NaN   \n",
            "18329                            두근두근 내 인생                  No          NaN   \n",
            "18330                               라디오 스타                  No          NaN   \n",
            "18331                               선생 김봉두                  No          NaN   \n",
            "\n",
            "       Hours Viewed  Number of Ratings  Rating  \\\n",
            "0         812100000             7696.0     6.0   \n",
            "1         665100000             5216.0     5.7   \n",
            "2         622800000            11869.0     8.4   \n",
            "3         507700000                NaN     NaN   \n",
            "4         503000000            50077.0     7.4   \n",
            "...             ...                ...     ...   \n",
            "18327        100000              383.0     4.8   \n",
            "18328        100000             6209.0     7.3   \n",
            "18329        100000                NaN     NaN   \n",
            "18330        100000                NaN     NaN   \n",
            "18331        100000                NaN     NaN   \n",
            "\n",
            "                                   Genre  \\\n",
            "0      ['Biography', 'Drama', 'History']   \n",
            "1         ['Comedy', 'Drama', 'Romance']   \n",
            "2                              ['Short']   \n",
            "3                          ['Talk-Show']   \n",
            "4        ['Drama', 'History', 'Romance']   \n",
            "...                                  ...   \n",
            "18327                          ['Drama']   \n",
            "18328   ['Animation', 'Drama', 'Family']   \n",
            "18329                                NaN   \n",
            "18330                                NaN   \n",
            "18331                                NaN   \n",
            "\n",
            "                                               Key Words  \\\n",
            "0      persian empire,empire,5th century b.c.,achaeme...   \n",
            "1      producer,three word title,headstrong,arranged ...   \n",
            "2                                                    NaN   \n",
            "3                                          youtube video   \n",
            "4      prequel,queen,historical,england,queen charlot...   \n",
            "...                                                  ...   \n",
            "18327                                               live   \n",
            "18328                              anime animation,anime   \n",
            "18329                                                NaN   \n",
            "18330                                                NaN   \n",
            "18331                                                NaN   \n",
            "\n",
            "                                             Description  \n",
            "0                                                    NaN  \n",
            "1      The film follows headstrong Ginny who meets Su...  \n",
            "2                                                    NaN  \n",
            "3      MsMojo counts down the top 10 Wednesday (2022)...  \n",
            "4      Betrothed against her will to King George, you...  \n",
            "...                                                  ...  \n",
            "18327  A tale of different people whose lives intertw...  \n",
            "18328  A young girl had her voice magically taken awa...  \n",
            "18329                                                NaN  \n",
            "18330                                                NaN  \n",
            "18331                                                NaN  \n",
            "\n",
            "[18332 rows x 9 columns]\n",
            "User canceled the input.\n",
            "Program finished.\n"
          ]
        }
      ],
      "source": [
        "# Create an instance of the class\n",
        "data_processor_instance = DataProcessor(df)\n",
        "\n",
        "# Predefined functions\n",
        "functions = {\n",
        "    'sort': data_processor_instance.sort_function,\n",
        "    'display': data_processor_instance.display_table_function,\n",
        "    'largest': data_processor_instance.largest_function,\n",
        "    'smallest': data_processor_instance.smallest_function,\n",
        "    'graph' : graph_function,\n",
        "    'menu' : menu_function\n",
        "}\n",
        "\n",
        "# List of words to check against\n",
        "list2 = ['sort', 'group', 'display', 'largest', 'smallest', 'graph', 'menu']\n",
        "\n",
        "while True:\n",
        "    # Your user input and split it into a list of words\n",
        "    user_input = simpledialog.askstring(\"Input\", \"What would you like to do with the data:\")\n",
        "\n",
        "    if user_input is not None:\n",
        "        print(\"User entered:\", user_input)\n",
        "\n",
        "        # Split the entered string into a list of words\n",
        "        words = user_input.split()\n",
        "\n",
        "        # Check each word against predefined functions\n",
        "        for word in words:\n",
        "            if word in list2:\n",
        "                # Call the corresponding function\n",
        "                functions[word]()\n",
        "            else:\n",
        "                # Check if a closely matching word exists in list2\n",
        "                close_match = [w for w in list2 if (len(w) == len(word) and sum(a != b for a, b in zip(w, word)) == 1) or\n",
        "                                   (len(w) == len(word) + 1 and sum(a != b for a, b in zip(w, word + 'X')) == 1) or\n",
        "                                   (len(w) == len(word) - 1 and sum(a != b for a, b in zip(w + 'X', word)) == 1)]\n",
        "                if close_match:\n",
        "                    print(f\"Did you mean '{close_match[0]}'? Performing the corresponding function.\")\n",
        "                    functions[close_match[0]]()\n",
        "    else:\n",
        "        print(\"User canceled the input.\")\n",
        "        break  # Break out of the loop when the user cancels input\n",
        "\n",
        "# Notify the user that the program is done\n",
        "print(\"Program finished.\")"
      ]
    },
    {
      "cell_type": "markdown",
      "id": "e65e1a89",
      "metadata": {
        "id": "e65e1a89"
      },
      "source": [
        "<p style=\"font-family: 'Times New Roman', cursive; font-size: 30px;\">--------------------------------------------------------------------------------------------------</p>"
      ]
    },
    {
      "cell_type": "markdown",
      "id": "cb4a9de9",
      "metadata": {
        "id": "cb4a9de9"
      },
      "source": [
        "<p style=\"font-family: 'Times New Roman', cursive; font-size: 27px;\">Conclusions\n"
      ]
    },
    {
      "cell_type": "markdown",
      "id": "f72a5c57",
      "metadata": {
        "id": "f72a5c57"
      },
      "source": [
        "<p style=\"font-family: 'Times New Roman', cursive; font-size: 20px;\">1. We partly confirm the hypothesis that 'It is better to analyse data by making an user interface', since the coding process is more time consuming, however it could make the analysis easier to navigate\n",
        "<p style=\"font-family: 'Times New Roman', cursive; font-size: 20px;\">2. By executing the 'All movies classified by genre' graph we can see that comedy is not the most popular genre, as a result we have to reject our hypothesis"
      ]
    }
  ],
  "metadata": {
    "kernelspec": {
      "display_name": "Python 3 (ipykernel)",
      "language": "python",
      "name": "python3"
    },
    "language_info": {
      "codemirror_mode": {
        "name": "ipython",
        "version": 3
      },
      "file_extension": ".py",
      "mimetype": "text/x-python",
      "name": "python",
      "nbconvert_exporter": "python",
      "pygments_lexer": "ipython3",
      "version": "3.11.5"
    },
    "colab": {
      "provenance": []
    }
  },
  "nbformat": 4,
  "nbformat_minor": 5
}